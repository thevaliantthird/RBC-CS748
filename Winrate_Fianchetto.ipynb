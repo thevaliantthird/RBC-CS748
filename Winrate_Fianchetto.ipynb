{
  "cells": [
    {
      "cell_type": "code",
      "execution_count": null,
      "metadata": {
        "colab": {
          "base_uri": "https://localhost:8080/"
        },
        "id": "4DhatL49gYgP",
        "outputId": "db73925a-047f-4015-bf08-4db0c2b7fcea"
      },
      "outputs": [
        {
          "output_type": "stream",
          "name": "stdout",
          "text": [
            "dict_keys(['black_name', 'capture_squares', 'fens_after_move', 'fens_before_move', 'requested_moves', 'sense_results', 'senses', 'taken_moves', 'type', 'white_name', 'win_reason', 'winner_color'])\n",
            "<class 'bool'>\n"
          ]
        }
      ],
      "source": [
        "# given an input file containing list of games separated by newline\n",
        "# this script gives out all the json game logs for the games\n",
        "# and stores in the logs directory which must exist\n",
        "import numpy as np\n",
        "import requests\n",
        "import json \n",
        "import threading\n",
        "import argparse\n",
        "\n",
        "r = requests.get(f\"https://rbc.jhuapl.edu/api/games/655835/game_history/download\")\n",
        "obj = r.json()\n",
        "# with open(f\"{args.dir}/{lines[idx]}.json\", 'w') as fh2:\n",
        "#   fh2.write(json.dumps(obj, indent=4))\n",
        "print(obj.keys())\n",
        "print(type(obj['winner_color']))\n",
        "\n",
        "game={}\n",
        "for i in np.arange(659984,660677,1):\n",
        "  # print(i)\n",
        "  r = requests.get(f\"https://rbc.jhuapl.edu/api/games/\"+str(i)+\"/game_history/download\")\n",
        "  obj = r.json()\n",
        "  if obj['white_name']!=\"Fianchetto\" and obj['black_name']!=\"Fianchetto\":\n",
        "    continue\n",
        "  \n",
        "  \n",
        "  if obj['white_name']==\"Fianchetto\":\n",
        "    if obj['black_name'] not in game:\n",
        "            game[obj['black_name']] = [0,0,0,0,0]\n",
        "    score=obj['winner_color']\n",
        "    if score==None:\n",
        "      game[obj['black_name']][4]+=1\n",
        "    elif score==True:\n",
        "      game[obj['black_name']][0]+=1\n",
        "      game[obj['black_name']][1]+=1\n",
        "    else:\n",
        "      game[obj['black_name']][2]+=0\n",
        "      game[obj['black_name']][3]+=1\n",
        "\n",
        "  else:\n",
        "    if obj['white_name'] not in game:\n",
        "            game[obj['white_name']] = [0,0,0,0,0]\n",
        "    score=obj['winner_color']\n",
        "    if score==None:\n",
        "      game[obj['white_name']][4]+=1\n",
        "    elif score==True:\n",
        "      game[obj['white_name']][0]+=0\n",
        "      game[obj['white_name']][1]+=1\n",
        "    else:\n",
        "      game[obj['white_name']][2]+=1\n",
        "      game[obj['white_name']][3]+=1\n",
        "  \n",
        "\n",
        "    \n",
        "    \n",
        "\n"
      ]
    },
    {
      "cell_type": "code",
      "execution_count": null,
      "metadata": {
        "colab": {
          "base_uri": "https://localhost:8080/"
        },
        "id": "fUAkjTnysmCa",
        "outputId": "f123dc87-de61-4da6-ce49-d2f05d5f4adc"
      },
      "outputs": [
        {
          "output_type": "stream",
          "name": "stdout",
          "text": [
            "{'trout': [14, 23, 15, 24, 1], 'random': [24, 24, 25, 25, 0], 'attacker': [24, 25, 24, 24, 0], 'StrangeFish2': [0, 24, 1, 25, 0], 'ROOKie': [3, 28, 0, 21, 0], 'Oracle': [3, 26, 1, 22, 0], 'guest-42628': [0, 0, 1, 1, 0], 'guest-47337': [1, 1, 0, 0, 0], 'guest-53003': [1, 1, 0, 0, 0], 'guest-30956': [1, 1, 0, 0, 0], 'guest-47051': [0, 0, 1, 1, 0]}\n"
          ]
        }
      ],
      "source": [
        "print(game)\n",
        "#Oracle,Rookie,Strangefish2\n",
        "#655295,656217 Baseline\n",
        "#656638,657171 ROOKie\n",
        "#659984,660677 Oracle\n",
        "#657187,657516  SF2  \n",
        "#657564,657612 SF2_old"
      ]
    }
  ],
  "metadata": {
    "colab": {
      "provenance": []
    },
    "kernelspec": {
      "display_name": "Python 3",
      "name": "python3"
    },
    "language_info": {
      "name": "python"
    }
  },
  "nbformat": 4,
  "nbformat_minor": 0
}