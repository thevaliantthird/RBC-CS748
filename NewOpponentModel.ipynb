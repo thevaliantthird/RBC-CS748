{
  "nbformat": 4,
  "nbformat_minor": 0,
  "metadata": {
    "colab": {
      "provenance": []
    },
    "kernelspec": {
      "name": "python3",
      "display_name": "Python 3"
    },
    "language_info": {
      "name": "python"
    },
    "accelerator": "GPU",
    "gpuClass": "standard"
  },
  "cells": [
    {
      "cell_type": "code",
      "execution_count": 1,
      "metadata": {
        "id": "ESwd7fAgYemA",
        "colab": {
          "base_uri": "https://localhost:8080/"
        },
        "outputId": "41657af6-1777-4612-f6b0-76336bcb1ebc"
      },
      "outputs": [
        {
          "output_type": "stream",
          "name": "stdout",
          "text": [
            "Looking in indexes: https://pypi.org/simple, https://us-python.pkg.dev/colab-wheels/public/simple/\n",
            "\u001b[31mERROR: Could not find a version that satisfies the requirement tensorflow==2.5.1 (from versions: 2.8.0rc0, 2.8.0rc1, 2.8.0, 2.8.1, 2.8.2, 2.8.3, 2.8.4, 2.9.0rc0, 2.9.0rc1, 2.9.0rc2, 2.9.0, 2.9.1, 2.9.2, 2.9.3, 2.10.0rc0, 2.10.0rc1, 2.10.0rc2, 2.10.0rc3, 2.10.0, 2.10.1, 2.11.0rc0, 2.11.0rc1, 2.11.0rc2, 2.11.0, 2.11.1, 2.12.0rc0, 2.12.0rc1, 2.12.0)\u001b[0m\u001b[31m\n",
            "\u001b[0m\u001b[31mERROR: No matching distribution found for tensorflow==2.5.1\u001b[0m\u001b[31m\n",
            "\u001b[0m"
          ]
        }
      ],
      "source": [
        "!pip install tensorflow==2.5.1"
      ]
    },
    {
      "cell_type": "code",
      "source": [
        "from google.colab import drive\n",
        "drive.mount('/content/drive')\n",
        "import os\n",
        "os.chdir('/content/drive/MyDrive/RBC-Opponent-Modelling-main/lczero-training-5/lczero-training/tf')\n",
        "os.listdir()\n"
      ],
      "metadata": {
        "id": "d_xlldDdZ3Ai",
        "colab": {
          "base_uri": "https://localhost:8080/"
        },
        "outputId": "2436c119-8bd8-4dd8-f2e3-23b455fff5ca"
      },
      "execution_count": 2,
      "outputs": [
        {
          "output_type": "stream",
          "name": "stdout",
          "text": [
            "Mounted at /content/drive\n"
          ]
        },
        {
          "output_type": "execute_result",
          "data": {
            "text/plain": [
              "['weights_run2_790389.pb.gz',\n",
              " 'net.proto',\n",
              " 'start.sh',\n",
              " 'update_steps.py',\n",
              " 'net_to_model.py',\n",
              " 'chunkparser.py',\n",
              " 'attention_policy_map.py',\n",
              " 'make_model.py',\n",
              " 'lc0_az_policy_map.py',\n",
              " 'shufflebuffer.py',\n",
              " 'decode_training.py',\n",
              " 'chunkparsefunc.py',\n",
              " 'policy_index.py',\n",
              " 'model_to_net.py',\n",
              " 'requirements.txt',\n",
              " 'train.py',\n",
              " 'TK-6430 aka 128x10-BPR-64M-6430000.pb.gz',\n",
              " 'net.py',\n",
              " 'loading_lc0.ipynb',\n",
              " 'net.pb.cc',\n",
              " 'net.pb.h',\n",
              " 'net_pb2.py',\n",
              " 'details_from_weights_file.py',\n",
              " 'LC0_Opponent_Modelling.ipynb',\n",
              " 'tfprocess.py',\n",
              " 'leelalogs',\n",
              " 'configs',\n",
              " '__pycache__',\n",
              " 'model_plot.png']"
            ]
          },
          "metadata": {},
          "execution_count": 2
        }
      ]
    },
    {
      "cell_type": "code",
      "source": [
        "\n",
        "import yaml\n",
        "import tensorflow as tf\n",
        "#tf.compat.v1.disable_eager_execution()\n",
        "\n",
        "weights_file_name = \"TK-6430 aka 128x10-BPR-64M-6430000.pb.gz\"\n",
        "# weights_file_name = \"128 blocks x 10 filters weights.pb.gz\"\n",
        "\n",
        "\n",
        "from tfprocess import TFProcess\n",
        "tfprocess = TFProcess(yaml.safe_load(open(\"configs/example.yaml\").read()))\n",
        "tfprocess.init_net()\n",
        "tfprocess.replace_weights(weights_file_name)\n",
        "from tensorflow import keras\n",
        "\n",
        "\n",
        "\n",
        "model = tf.keras.Sequential()\n",
        "model.add(tfprocess.model)\n",
        "model.add(tf.keras.layers.Softmax())\n",
        "model.summary()\n",
        "keras.utils.plot_model(model, to_file='model_plot.png', show_shapes=True, show_layer_names=True)\n",
        "\n",
        "\n",
        "import tensorflow as tf\n",
        "# import tensorflow_datasets as tfds\n",
        "# print(\"Num GPUs Available: \", len(tf.config.list_physical_devices('GPU')))\n",
        "# device_name = tf.test.gpu_device_name()\n",
        "# print(\"Device Name =\", device_name)\n",
        "# if device_name != '/device:GPU:0':\n",
        "#   raise SystemError('GPU device not found')\n",
        "# print('Found GPU at: {}'.format(device_name))\n",
        "\n",
        "\n",
        "# gpus = tf.config.list_physical_devices('GPU')\n",
        "# if gpus:\n",
        "#   # Restrict TensorFlow to only use the first GPU\n",
        "#   try:\n",
        "#     tf.config.set_visible_devices(gpus[0], 'GPU')\n",
        "#     logical_gpus = tf.config.list_logical_devices('GPU')\n",
        "#     print(len(gpus), \"Physical GPUs,\", len(logical_gpus), \"Logical GPU\")\n",
        "#   except RuntimeError as e:\n",
        "#     # Visible devices must be set before GPUs have been initialized\n",
        "#     print(e)\n",
        "\n",
        "\n",
        "os.chdir(\"../..\") # nullify effect of previous chdir\n",
        "\n",
        "import numpy as np\n",
        "inputs_old = []\n",
        "outputs_old = []\n",
        "\n",
        "os.chdir('/content/drive/MyDrive/RBC-Opponent-Modelling-main/Games_Opponents_lastyear')\n",
        "print(os.listdir())"
      ],
      "metadata": {
        "id": "WwamzUJCZ-Lx",
        "colab": {
          "base_uri": "https://localhost:8080/"
        },
        "outputId": "32c7e326-eacf-4ff8-de20-2f60aa5c45d3"
      },
      "execution_count": 3,
      "outputs": [
        {
          "output_type": "stream",
          "name": "stdout",
          "text": [
            "Blocks: 10\n",
            "Filters: 128\n",
            "pblczero.Net.magic: 448\n",
            "pblczero.Net.license: \n",
            "pblczero.EngineVersion.major: 0\n",
            "pblczero.EngineVersion.minor: 21\n",
            "pblczero.EngineVersion.patch: 0\n",
            "pblczero.Format.weights_encoding: LINEAR16\n",
            "pblczero.NetworkFormat.input: INPUT_CLASSICAL_112_PLANE\n",
            "pblczero.NetworkFormat.output: OUTPUT_WDL\n",
            "pblczero.NetworkFormat.network: NETWORK_SE_WITH_HEADFORMAT\n",
            "pblczero.NetworkFormat.policy: POLICY_CONVOLUTION\n",
            "pblczero.NetworkFormat.value: VALUE_WDL\n",
            "pblczero.NetworkFormat.moves_left: MOVES_LEFT_NONE\n",
            "pblczero.NetworkFormat.default_activation: DEFAULT_ACTIVATION_RELU\n",
            "pblczero.TrainingParams.training_steps: 6430000\n",
            "pblczero.TrainingParams.learning_rate: 9.999999747378752e-05\n",
            "pblczero.TrainingParams.mse_loss: 0.09407615661621094\n",
            "pblczero.TrainingParams.policy_loss: 1.8348811864852905\n",
            "pblczero.TrainingParams.accuracy: 59.87109375\n",
            "pblczero.TrainingParams.lc0_params: \n",
            "\n",
            "Model: \"sequential\"\n",
            "_________________________________________________________________\n",
            " Layer (type)                Output Shape              Param #   \n",
            "=================================================================\n",
            " model (Functional)          (None, 1858)              3453456   \n",
            "                                                                 \n",
            " softmax (Softmax)           (None, 1858)              0         \n",
            "                                                                 \n",
            "=================================================================\n",
            "Total params: 3,453,456\n",
            "Trainable params: 3,447,824\n",
            "Non-trainable params: 5,632\n",
            "_________________________________________________________________\n",
            "['All_games', 'ROOKie_npz', 'StrangeFish2_npz', 'Oracle_npz', 'saved-model.zip', 'saved-model', 'saved-model.pb.gz', 'SF2.zip', 'SF2', 'SF2.pb.gz', 'history.pickle']\n"
          ]
        }
      ]
    },
    {
      "cell_type": "code",
      "source": [
        "import numpy as np\n",
        "inputs = []\n",
        "outputs = []\n",
        "import os\n",
        "for f in os.listdir('StrangeFish2_npz')[:900]:\n",
        "  if not f.endswith('.npz'): continue\n",
        "  \n",
        "  loaded = np.load(os.path.join('StrangeFish2_npz',f))\n",
        "  length = len(loaded['inputs'])\n",
        "  inputs.extend(loaded['inputs'])\n",
        "  outputs.extend(loaded['outputs'])\n",
        "  \n",
        "\n",
        "inputs = np.array(inputs)\n",
        "outputs = np.array(outputs)\n",
        "\n",
        "print(np.shape(inputs),np.shape(outputs))"
      ],
      "metadata": {
        "id": "EIRBJfKHaK6k",
        "colab": {
          "base_uri": "https://localhost:8080/"
        },
        "outputId": "6199251a-2869-4fcb-b26f-fe6f323fe5f2"
      },
      "execution_count": 4,
      "outputs": [
        {
          "output_type": "stream",
          "name": "stdout",
          "text": [
            "(18538, 112, 8, 8) (18538, 1858)\n"
          ]
        }
      ]
    },
    {
      "cell_type": "code",
      "source": [
        "perm = np.random.permutation(inputs.shape[0])\n",
        "inputs = inputs[perm,:,:,:]\n",
        "outputs = outputs[perm,:]\n",
        "\n",
        "valx, valy = inputs[int(0.8 * len(inputs)):], outputs[int(0.8 * len(inputs)):]"
      ],
      "metadata": {
        "id": "DJ6DSla1ldO-"
      },
      "execution_count": 5,
      "outputs": []
    },
    {
      "cell_type": "code",
      "source": [
        "model.compile(\n",
        "    optimizer=tf.keras.optimizers.Adam(0.001),\n",
        "    loss=tf.keras.losses.CategoricalCrossentropy(),\n",
        "    metrics=[tf.keras.metrics.CategoricalAccuracy()],\n",
        ")\n",
        "\n",
        "is_value_head = False"
      ],
      "metadata": {
        "id": "xFoZ1CqIb-bk"
      },
      "execution_count": 6,
      "outputs": []
    },
    {
      "cell_type": "code",
      "source": [
        "stored_outputs = outputs.copy()\n",
        "value_outputs = None\n",
        "if is_value_head:\n",
        "  _value_outputs = model.predict(inputs)\n",
        "  model.evaluate(x = inputs, y = _value_outputs)\n",
        "  print(len(_value_outputs))\n",
        "  print(_value_outputs[0].shape)\n",
        "  print(len(_value_outputs[0]))\n",
        "  print(_value_outputs[1].shape)\n",
        "  print(len(_value_outputs[1]))\n",
        "\n",
        "  value_outputs = np.zeros([len(inputs), 3])\n",
        "  value_outputs[:,:] = _value_outputs[1]\n",
        "  print(value_outputs.shape)\n",
        "  print(len(outputs))\n",
        "  print(stored_outputs.shape)\n",
        "  model.evaluate(x = inputs, y = [stored_outputs, value_outputs])\n",
        "  print(_value_outputs[0][0])\n",
        "  print(np.sum(inputs[0]))\n",
        "  print(stored_outputs[0])\n",
        "  print(np.sum(stored_outputs[0]))\n",
        "\n",
        "else:\n",
        "  model.evaluate(x = valx, y = valy)\n",
        "  _value_outputs = model.predict(inputs)\n",
        "  print(_value_outputs[0])\n",
        "  print(np.sum(_value_outputs[0]))\n",
        "  print(np.sum(_value_outputs[0] < 0))\n",
        "  print(np.sum(inputs[0]))\n",
        "  print(stored_outputs[0])\n",
        "  print(np.sum(stored_outputs[0]))\n",
        "\n",
        "del stored_outputs"
      ],
      "metadata": {
        "id": "AbOeXEEtcHRt",
        "colab": {
          "base_uri": "https://localhost:8080/"
        },
        "outputId": "869f0059-dcde-4775-fe47-01beadcec8ea"
      },
      "execution_count": 7,
      "outputs": [
        {
          "output_type": "stream",
          "name": "stdout",
          "text": [
            "116/116 [==============================] - 10s 13ms/step - loss: 510.1951 - categorical_accuracy: 0.1235\n",
            "580/580 [==============================] - 8s 10ms/step\n",
            "[0. 0. 0. ... 0. 0. 0.]\n",
            "1.0\n",
            "0\n",
            "928.0\n",
            "[0. 0. 0. ... 0. 0. 0.]\n",
            "1.0\n"
          ]
        }
      ]
    },
    {
      "cell_type": "code",
      "source": [
        "history = model.fit(\n",
        "  inputs[:int(0.8 * len(inputs))],\n",
        "  outputs[:int(0.8 * len(inputs))],\n",
        "  validation_data = (inputs[int(0.8 * len(inputs)):], outputs[int(0.8 * len(inputs)):]),\n",
        "  epochs = 20,\n",
        ")\n",
        "  "
      ],
      "metadata": {
        "id": "6OoEIJJMcZdh",
        "colab": {
          "base_uri": "https://localhost:8080/"
        },
        "outputId": "6573864e-3f9e-464d-8453-88763ea6144c"
      },
      "execution_count": null,
      "outputs": [
        {
          "output_type": "stream",
          "name": "stdout",
          "text": [
            "Epoch 1/20\n",
            "464/464 [==============================] - 39s 35ms/step - loss: 3.4451 - categorical_accuracy: 0.2444 - val_loss: 8.0432 - val_categorical_accuracy: 0.2729\n",
            "Epoch 2/20\n",
            "464/464 [==============================] - 16s 35ms/step - loss: 2.7160 - categorical_accuracy: 0.3195 - val_loss: 3.5531 - val_categorical_accuracy: 0.2902\n",
            "Epoch 3/20\n",
            "464/464 [==============================] - 18s 40ms/step - loss: 2.3928 - categorical_accuracy: 0.3759 - val_loss: 2.7753 - val_categorical_accuracy: 0.3385\n",
            "Epoch 4/20\n",
            "464/464 [==============================] - 16s 35ms/step - loss: 2.1459 - categorical_accuracy: 0.4363 - val_loss: 4.2515 - val_categorical_accuracy: 0.3398\n",
            "Epoch 5/20\n",
            "464/464 [==============================] - 16s 34ms/step - loss: 1.9253 - categorical_accuracy: 0.4829 - val_loss: 2.8565 - val_categorical_accuracy: 0.3433\n",
            "Epoch 6/20\n",
            "464/464 [==============================] - 15s 33ms/step - loss: 1.6941 - categorical_accuracy: 0.5466 - val_loss: 4.0355 - val_categorical_accuracy: 0.3406\n",
            "Epoch 7/20\n",
            "464/464 [==============================] - 16s 34ms/step - loss: 1.4727 - categorical_accuracy: 0.6123 - val_loss: 3.0140 - val_categorical_accuracy: 0.3530\n",
            "Epoch 8/20\n",
            "464/464 [==============================] - 17s 36ms/step - loss: 1.2610 - categorical_accuracy: 0.6800 - val_loss: 3.4738 - val_categorical_accuracy: 0.3482\n",
            "Epoch 9/20\n",
            "115/464 [======>.......................] - ETA: 9s - loss: 0.9400 - categorical_accuracy: 0.7910"
          ]
        }
      ]
    },
    {
      "cell_type": "code",
      "source": [
        "# model.save('newWeights.pb.gz')\n",
        "\n",
        "from google.colab import files\n",
        "import shutil, os\n",
        "folder_name=\"SF2\"\n",
        "\n",
        "if os.path.exists(folder_name):\n",
        "  shutil.rmtree(folder_name)\n",
        "os.mkdir(folder_name)\n",
        "\n",
        "if os.path.exists(folder_name+\".zip\"):\n",
        "  os.remove(folder_name+\".zip\")\n",
        "model.save(folder_name)\n",
        "\n",
        "shutil.make_archive(folder_name,'zip',folder_name)\n",
        "files.download(folder_name+\".zip\")\n",
        "\n",
        "if os.path.exists(folder_name):\n",
        "  shutil.rmtree(folder_name)\n",
        "os.mkdir(folder_name)\n",
        "\n",
        "if os.path.exists(folder_name+\".pb.gz\"):\n",
        "  os.remove(folder_name+\".pb.gz\")\n",
        "tfprocess.model=model\n",
        "tfprocess.save_leelaz_weights(folder_name)\n",
        "files.download(folder_name+\".pb.gz\")"
      ],
      "metadata": {
        "id": "mk4n2mCV5-f-"
      },
      "execution_count": null,
      "outputs": []
    },
    {
      "cell_type": "code",
      "source": [
        "\n",
        "import pickle\n",
        "\n",
        "with open('history.pickle', 'wb') as handle:\n",
        "    pickle.dump(dict, handle)"
      ],
      "metadata": {
        "id": "quvWWII33rq9"
      },
      "execution_count": null,
      "outputs": []
    },
    {
      "cell_type": "code",
      "source": [
        "files.download(folder_name+\".pb.gz\")"
      ],
      "metadata": {
        "id": "Qt7EwUAuIT_V"
      },
      "execution_count": null,
      "outputs": []
    },
    {
      "cell_type": "code",
      "source": [
        "# !pip install numpy==1.24.2\n",
        "\n",
        "# import numpy as np\n",
        "# import matplotlib.pyplot as plt\n",
        "\n",
        "# fig, axs = plt.subplots(2, 2)\n",
        "# axs[0, 0].plot(list(map(lambda x: x+1, range(len(history.history['loss'])))),  history.history['loss'])\n",
        "# axs[0, 0].set_title('Axis [0, 0]')\n",
        "# axs[0, 1].plot(list(map(lambda x: x+1, range(len(history.history['categorical_accuracy'])))),  history.history['categorical_accuracy'])\n",
        "# axs[0, 1].set_title('Axis [0, 1]')\n",
        "# axs[1, 0].plot(list(map(lambda x: x+1, range(len(history.history['val_loss'])))),  history.history['val_loss'])\n",
        "# axs[1, 0].set_title('Axis [1, 0]')\n",
        "# axs[1, 1].plot(list(map(lambda x: x+1, range(len(history.history['val_categorical_accuracy'])))),  history.history['val_categorical_accuracy'])\n",
        "# axs[1, 1].set_title('Axis [1, 1]')\n",
        "\n",
        "# # Hide x labels and tick labels for top plots and y ticks for right plots.\n",
        "# for ax in axs.flat:\n",
        "#     ax.label_outer()\n",
        "\n",
        "# # plt.title('Training Loss')\n",
        "# # plt.xlabel('epochs')\n",
        "# # plt.ylabel('Cross Entropy loss')\n",
        "# # plt.plot(list(map(lambda x: x+1, range(len(history.history['loss'])))),  history.history['loss'])\n",
        "# # plt.show()\n",
        "# # dict = {}\n",
        "# # dict['loss'] = history.history['loss']\n",
        "\n",
        "# # plt.title('Training Accuracy')\n",
        "# # plt.xlabel('epochs')\n",
        "# # plt.ylabel('Accuracy')\n",
        "# # plt.plot(list(map(lambda x: x+1, range(len(history.history['categorical_accuracy'])))),  history.history['categorical_accuracy'])\n",
        "# # dict['ca'] = history.history['categorical_accuracy']\n",
        "# # plt.show()\n",
        "\n",
        "# # plt.title('Validation Loss')\n",
        "# # plt.xlabel('epochs')\n",
        "# # plt.ylabel('Cross Entropy loss')\n",
        "# # plt.plot(list(map(lambda x: x+1, range(len(history.history['val_loss'])))),  history.history['val_loss'])\n",
        "# # plt.show()\n",
        "# # dict['vl'] = history.history['val_loss']\n",
        "\n",
        "# # plt.title('Validation Accuracy')\n",
        "# # plt.xlabel('epochs')\n",
        "# # plt.ylabel('Accuracy')\n",
        "# # plt.plot(list(map(lambda x: x+1, range(len(history.history['val_categorical_accuracy'])))),  history.history['val_categorical_accuracy'])\n",
        "# # dict['vca'] = history.history['val_categorical_accuracy']\n",
        "# # plt.show()"
      ],
      "metadata": {
        "id": "flJru0YxrOXm"
      },
      "execution_count": null,
      "outputs": []
    }
  ]
}